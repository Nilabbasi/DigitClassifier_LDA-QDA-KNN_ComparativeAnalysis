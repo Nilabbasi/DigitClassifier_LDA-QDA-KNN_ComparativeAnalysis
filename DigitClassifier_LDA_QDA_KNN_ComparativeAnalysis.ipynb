{
  "cells": [
    {
      "cell_type": "markdown",
      "id": "0886b5bb",
      "metadata": {
        "id": "0886b5bb"
      },
      "source": [
        "# Niloufar Abbasi\n",
        "### Statistical Learning Course - Spring 2023 - HW3\n",
        "---"
      ]
    },
    {
      "cell_type": "markdown",
      "source": [
        "# Classification of Digits using LDA, QDA, KNN with PCA\n",
        "\n",
        "##Introduction\n",
        "\n",
        "### Dataset Summary\n",
        "\n",
        "The **digits dataset** is a classic dataset in machine learning, containing 1,797 samples of handwritten digits from 0 to 9, with each image represented as an 8x8 pixel grid. This results in 64 features per sample, making it a relatively small dataset, but one that still offers challenges in terms of classification accuracy due to the subtle variations between different handwritten digits.\n",
        "\n",
        "Each sample is a grayscale image, where each pixel value represents the brightness of the pixel, ranging from 0 (black) to 16 (white). The dataset is well-suited for testing machine learning algorithms on tasks such as **image classification** and **pattern recognition**.\n",
        "\n",
        "### Motivation for Using LDA, QDA, KNN, and PCA\n",
        "\n",
        "In this project, we aim to classify these handwritten digits using three distinct models: **Linear Discriminant Analysis (LDA)**, **Quadratic Discriminant Analysis (QDA)**, and **K-Nearest Neighbors (KNN)**. These models are widely used for classification tasks due to their effectiveness and simplicity. However, given the high-dimensional nature of the dataset, applying dimensionality reduction techniques like **Principal Component Analysis (PCA)** becomes crucial for several reasons:\n",
        "\n",
        "- **LDA**: This method is a powerful tool for linear classification by finding a linear combination of features that best separates the classes. It also serves as a dimensionality reduction method, making it useful in high-dimensional spaces like ours.\n",
        "  \n",
        "- **QDA**: A more flexible version of LDA, QDA allows for quadratic decision boundaries, providing better performance when the relationships between features are more complex. It is particularly useful when classes are not linearly separable.\n",
        "\n",
        "- **KNN**: This non-parametric algorithm classifies data based on the nearest neighbors. While simple and intuitive, it can struggle with high-dimensional data, making **PCA** a key technique for reducing dimensionality and improving the algorithm's efficiency.\n",
        "\n",
        "- **PCA**: By reducing the feature space while retaining as much variance as possible, PCA not only speeds up training time but also helps to prevent overfitting. This is particularly important when dealing with high-dimensional data, such as the 64 features per sample in this dataset.\n",
        "\n",
        "By combining these algorithms with PCA, we aim to assess their performance in both full and reduced-dimensional spaces, identifying the trade-offs between dimensionality reduction and model accuracy. Through this exploration, we can uncover the best-performing approach for digit classification in terms of accuracy and computational efficiency.\n"
      ],
      "metadata": {
        "id": "_ISn6aIPD83y"
      },
      "id": "_ISn6aIPD83y"
    },
    {
      "cell_type": "markdown",
      "source": [
        "---"
      ],
      "metadata": {
        "id": "R6vvebW3D80y"
      },
      "id": "R6vvebW3D80y"
    },
    {
      "cell_type": "markdown",
      "id": "7b8fe36a",
      "metadata": {
        "id": "7b8fe36a"
      },
      "source": [
        "### Libraries :"
      ]
    },
    {
      "cell_type": "code",
      "execution_count": 2,
      "id": "a7af4900",
      "metadata": {
        "id": "a7af4900"
      },
      "outputs": [],
      "source": [
        "import math\n",
        "import statistics\n",
        "import numpy             as np\n",
        "import pandas            as pd\n",
        "import matplotlib.pyplot as plt\n",
        "import seaborn           as sns\n",
        "\n",
        "from tabulate                      import tabulate\n",
        "from sklearn                       import metrics\n",
        "from sklearn                       import preprocessing\n",
        "from sklearn.datasets              import load_digits\n",
        "from sklearn.model_selection       import train_test_split\n",
        "from sklearn.preprocessing         import StandardScaler\n",
        "from sklearn.neighbors             import KNeighborsClassifier\n",
        "from sklearn.metrics               import classification_report\n",
        "from sklearn.metrics               import confusion_matrix\n",
        "from sklearn.metrics               import mean_squared_error            as MSE\n",
        "from sklearn.decomposition         import PCA\n",
        "from sklearn.discriminant_analysis import LinearDiscriminantAnalysis    as LDA\n",
        "from sklearn.discriminant_analysis import QuadraticDiscriminantAnalysis as QDA\n",
        "from sklearn.pipeline              import make_pipeline\n",
        "\n",
        "%matplotlib inline"
      ]
    },
    {
      "cell_type": "code",
      "execution_count": 3,
      "id": "340b1ab0",
      "metadata": {
        "id": "340b1ab0"
      },
      "outputs": [],
      "source": [
        "random_state = 0"
      ]
    },
    {
      "cell_type": "markdown",
      "id": "6d055df9",
      "metadata": {
        "id": "6d055df9"
      },
      "source": [
        "# (A)\n",
        "\n",
        "## Data Loading and Preprocessing\n",
        "\n",
        "We first load the dataset and split it into training and testing sets. We also apply standard scaling to ensure consistent model performance.\n"
      ]
    },
    {
      "cell_type": "code",
      "execution_count": 4,
      "id": "a93da2b2",
      "metadata": {
        "colab": {
          "base_uri": "https://localhost:8080/",
          "height": 472
        },
        "id": "a93da2b2",
        "outputId": "4fbe1f08-2788-4f4e-c593-40527cd38f96"
      },
      "outputs": [
        {
          "output_type": "stream",
          "name": "stdout",
          "text": [
            "shape : (1797, 64)\n"
          ]
        },
        {
          "output_type": "display_data",
          "data": {
            "text/plain": [
              "<Figure size 640x480 with 0 Axes>"
            ]
          },
          "metadata": {}
        },
        {
          "output_type": "display_data",
          "data": {
            "text/plain": [
              "<Figure size 480x480 with 1 Axes>"
            ],
            "image/png": "[encoded data removed]"
          },
          "metadata": {}
        }
      ],
      "source": [
        "digits = load_digits()\n",
        "print( 'shape :' , digits.data.shape)\n",
        "plt.gray()\n",
        "plt.matshow(digits.images[0])\n",
        "plt.show()"
      ]
    },
    {
      "cell_type": "code",
      "execution_count": 5,
      "id": "d8e8ad1c",
      "metadata": {
        "colab": {
          "base_uri": "https://localhost:8080/",
          "height": 186
        },
        "id": "d8e8ad1c",
        "outputId": "0c4289c7-2efe-4a1b-d329-4d375f077313"
      },
      "outputs": [
        {
          "output_type": "display_data",
          "data": {
            "text/plain": [
              "<Figure size 1600x1200 with 10 Axes>"
            ],
            "image/png": "[encoded data removed]"
          },
          "metadata": {}
        }
      ],
      "source": [
        "_, axes = plt.subplots(nrows=1, ncols=10, figsize=(16, 12))\n",
        "for ax, image, label in zip(axes, digits.images, digits.target):\n",
        "    ax.set_axis_off()\n",
        "    ax.matshow(image, cmap=plt.cm.gray_r, interpolation='nearest')\n",
        "    plt.gray()\n",
        "    ax.set_title('Training: %i' % label)"
      ]
    },
    {
      "cell_type": "code",
      "execution_count": 6,
      "id": "abe57415",
      "metadata": {
        "colab": {
          "base_uri": "https://localhost:8080/"
        },
        "id": "abe57415",
        "outputId": "30e66d43-d1ba-431f-84cd-7e39e2ce5e63"
      },
      "outputs": [
        {
          "output_type": "stream",
          "name": "stdout",
          "text": [
            "(1797, 8, 8)\n"
          ]
        },
        {
          "output_type": "execute_result",
          "data": {
            "text/plain": [
              "array([[ 0.,  6., 13.,  5.,  8.,  8.,  1.,  0.],\n",
              "       [ 0.,  8., 16., 16., 16., 16.,  6.,  0.],\n",
              "       [ 0.,  6., 16.,  9.,  6.,  4.,  0.,  0.],\n",
              "       [ 0.,  6., 16., 16., 15.,  5.,  0.,  0.],\n",
              "       [ 0.,  0.,  4.,  5., 15., 12.,  0.,  0.],\n",
              "       [ 0.,  0.,  0.,  3., 16.,  9.,  0.,  0.],\n",
              "       [ 0.,  1.,  8., 13., 15.,  3.,  0.,  0.],\n",
              "       [ 0.,  4., 16., 15.,  3.,  0.,  0.,  0.]])"
            ]
          },
          "metadata": {},
          "execution_count": 6
        }
      ],
      "source": [
        "# example : image 33\n",
        "\n",
        "print(digits.images.shape)\n",
        "digits.images[33]   #2D array   8*8"
      ]
    },
    {
      "cell_type": "code",
      "execution_count": 7,
      "id": "b23b7cda",
      "metadata": {
        "colab": {
          "base_uri": "https://localhost:8080/"
        },
        "id": "b23b7cda",
        "outputId": "472a133a-e410-4c8e-c05a-433500086880"
      },
      "outputs": [
        {
          "output_type": "stream",
          "name": "stdout",
          "text": [
            "(1797, 64)\n"
          ]
        },
        {
          "output_type": "execute_result",
          "data": {
            "text/plain": [
              "array([ 0.,  6., 13.,  5.,  8.,  8.,  1.,  0.,  0.,  8., 16., 16., 16.,\n",
              "       16.,  6.,  0.,  0.,  6., 16.,  9.,  6.,  4.,  0.,  0.,  0.,  6.,\n",
              "       16., 16., 15.,  5.,  0.,  0.,  0.,  0.,  4.,  5., 15., 12.,  0.,\n",
              "        0.,  0.,  0.,  0.,  3., 16.,  9.,  0.,  0.,  0.,  1.,  8., 13.,\n",
              "       15.,  3.,  0.,  0.,  0.,  4., 16., 15.,  3.,  0.,  0.,  0.])"
            ]
          },
          "metadata": {},
          "execution_count": 7
        }
      ],
      "source": [
        "# converting images to 1D arrays\n",
        "# example : image 33\n",
        "\n",
        "digits.images=np.array(digits.images).reshape(1797,64)\n",
        "\n",
        "print(digits.images.shape)\n",
        "digits.images[33]   #1D array    1*64"
      ]
    },
    {
      "cell_type": "code",
      "execution_count": 8,
      "id": "e099779a",
      "metadata": {
        "colab": {
          "base_uri": "https://localhost:8080/"
        },
        "id": "e099779a",
        "outputId": "2cf0cc1b-773f-48fc-ddd8-d74206590ba2"
      },
      "outputs": [
        {
          "output_type": "stream",
          "name": "stdout",
          "text": [
            "X_train shape :   (1437, 64)\n",
            "X_test shape  :   (360, 64)\n",
            "y_train shape :   (1437,)\n",
            "y_test shape  :   (360,)\n"
          ]
        }
      ],
      "source": [
        "# Split data into 80% train and 20% test subsets\n",
        "\n",
        "X_train, X_test, y_train, y_test = train_test_split(digits.images, digits.target, test_size=0.2, shuffle=True, random_state=0)\n",
        "\n",
        "print('X_train shape :  ', X_train.shape)\n",
        "print('X_test shape  :  ' , X_test.shape)\n",
        "print('y_train shape :  ', y_train.shape)\n",
        "print('y_test shape  :  ' , y_test.shape)"
      ]
    },
    {
      "cell_type": "code",
      "execution_count": 9,
      "id": "5376b152",
      "metadata": {
        "id": "5376b152"
      },
      "outputs": [],
      "source": [
        " #Data standardization\n",
        "\n",
        "X_scaler = StandardScaler().fit(X_train)\n",
        "X_train  = X_scaler.transform(X_train)\n",
        "X_test   = X_scaler.transform(X_test)\n"
      ]
    },
    {
      "cell_type": "code",
      "execution_count": 10,
      "id": "cb7eabb5",
      "metadata": {
        "colab": {
          "base_uri": "https://localhost:8080/"
        },
        "id": "cb7eabb5",
        "outputId": "94cdc2eb-5b28-459e-d604-b37bcdf236c6"
      },
      "outputs": [
        {
          "output_type": "stream",
          "name": "stdout",
          "text": [
            "training data points   : 1293\n",
            "validation data points : 144\n",
            "testing data points    : 360\n"
          ]
        }
      ],
      "source": [
        "# now, let's take 10% of the training data and use that for validation !!!!\n",
        "X_train, X_validation, y_train, y_validation = train_test_split(X_train,y_train, test_size=0.1, random_state=0)\n",
        "\n",
        "# show the sizes of each data split\n",
        "print(\"training data points   : {}\".format(len(y_train)))\n",
        "print(\"validation data points : {}\".format(len(y_validation)))\n",
        "print(\"testing data points    : {}\".format(len(y_test)))"
      ]
    },
    {
      "cell_type": "markdown",
      "id": "4438c5f7",
      "metadata": {
        "id": "4438c5f7"
      },
      "source": [
        "# KNN :"
      ]
    },
    {
      "cell_type": "code",
      "execution_count": 11,
      "id": "2092a2a1",
      "metadata": {
        "colab": {
          "base_uri": "https://localhost:8080/"
        },
        "id": "2092a2a1",
        "outputId": "8383fdc5-7396-4318-b251-a4221774fa97"
      },
      "outputs": [
        {
          "output_type": "stream",
          "name": "stdout",
          "text": [
            "k=3, accuracy=95.83%\n",
            "k=4, accuracy=97.22%\n",
            "k=5, accuracy=96.53%\n",
            "k=6, accuracy=97.92%\n",
            "k=7, accuracy=97.92%\n",
            "k=8, accuracy=97.22%\n",
            "k=9, accuracy=97.22%\n",
            "\n",
            "====================================================================\n",
            "k=6 achieved highest accuracy of 97.92% on validation data\n",
            "====================================================================\n",
            "\n",
            "EVALUATION ON TESTING DATA\n",
            "              precision    recall  f1-score   support\n",
            "\n",
            "           0       1.00      1.00      1.00        27\n",
            "           1       0.92      0.97      0.94        35\n",
            "           2       1.00      0.94      0.97        36\n",
            "           3       0.93      0.97      0.95        29\n",
            "           4       0.97      0.97      0.97        30\n",
            "           5       0.95      0.97      0.96        40\n",
            "           6       1.00      1.00      1.00        44\n",
            "           7       0.93      0.97      0.95        39\n",
            "           8       0.97      0.90      0.93        39\n",
            "           9       0.97      0.95      0.96        41\n",
            "\n",
            "    accuracy                           0.96       360\n",
            "   macro avg       0.96      0.96      0.96       360\n",
            "weighted avg       0.96      0.96      0.96       360\n",
            "\n",
            "\n",
            "Confusion matrix\n",
            "[[27  0  0  0  0  0  0  0  0  0]\n",
            " [ 0 34  0  0  0  1  0  0  0  0]\n",
            " [ 0  1 34  0  0  0  0  1  0  0]\n",
            " [ 0  0  0 28  0  0  0  0  1  0]\n",
            " [ 0  0  0  0 29  0  0  1  0  0]\n",
            " [ 0  0  0  0  0 39  0  0  0  1]\n",
            " [ 0  0  0  0  0  0 44  0  0  0]\n",
            " [ 0  0  0  0  1  0  0 38  0  0]\n",
            " [ 0  2  0  2  0  0  0  0 35  0]\n",
            " [ 0  0  0  0  0  1  0  1  0 39]]\n"
          ]
        }
      ],
      "source": [
        "# initialize the values of k for our k-Nearest Neighbor classifier along with the list of accuracies for each value of k\n",
        "\n",
        "kVals = range(3, 10, 1)  # step:1\n",
        "\n",
        "accuracies     = []      # empty list\n",
        "k_list         = []      # empty list\n",
        "knn_error_list = []      # empty list\n",
        "\n",
        "#====================================================================================================================\n",
        "\n",
        "# loop over various values of `k` for the k-Nearest Neighbor classifier\n",
        "\n",
        "for k in range(3,10, 1): # train the k-Nearest Neighbor classifier with the current value of `k`\n",
        "        knn_model = KNeighborsClassifier(n_neighbors=k)\n",
        "        knn_model.fit(X_train, y_train)\n",
        "        score = knn_model.score(X_validation, y_validation)\n",
        "        print(\"k=%d, accuracy=%.2f%%\" % (k, score * 100))\n",
        "        accuracies.append(score)                            # evaluate the model and update the accuracies list\n",
        "        k_list.append(k)\n",
        "        knn_error_list.append(1-score)\n",
        "\n",
        "#=====================================================================================================================\n",
        "\n",
        "# find the value of k that has the largest accuracy\n",
        "i = np.argmax(accuracies)\n",
        "print('\\n====================================================================')\n",
        "print(\"k=%d achieved highest accuracy of %.2f%% on validation data\" % (kVals[i], accuracies[i] * 100))\n",
        "print('====================================================================')\n",
        "\n",
        "#=====================================================================================================================\n",
        "\n",
        "# re-train our classifier using the best k value and predict the labels of the test data\n",
        "knn_model = KNeighborsClassifier(n_neighbors=kVals[i])\n",
        "knn_model.fit(X_train, y_train)\n",
        "y_pred_knn = knn_model.predict(X_test)\n",
        "\n",
        "#=====================================================================================================================\n",
        "\n",
        "# show a final classification report demonstrating the accuracy of the classifier for each of the digits\n",
        "\n",
        "print(\"\\nEVALUATION ON TESTING DATA\")\n",
        "print(classification_report(y_test, y_pred_knn))\n",
        "\n",
        "print (\"\\nConfusion matrix\")\n",
        "print(confusion_matrix(y_test,y_pred_knn))\n"
      ]
    },
    {
      "cell_type": "code",
      "execution_count": 12,
      "id": "1783e357",
      "metadata": {
        "colab": {
          "base_uri": "https://localhost:8080/"
        },
        "id": "1783e357",
        "outputId": "8901f53d-23a9-41de-9296-af4df6f3d86b"
      },
      "outputs": [
        {
          "output_type": "stream",
          "name": "stdout",
          "text": [
            "test error : 3.6111111111111107\n"
          ]
        }
      ],
      "source": [
        "knn_test_error= (y_test != y_pred_knn).mean() * 100\n",
        "print('test error :', knn_test_error)"
      ]
    },
    {
      "cell_type": "code",
      "execution_count": 13,
      "id": "4b7d1b8b",
      "metadata": {
        "colab": {
          "base_uri": "https://localhost:8080/"
        },
        "id": "4b7d1b8b",
        "outputId": "c8f5dfcf-5f71-42df-e8e1-ce98107da98d"
      },
      "outputs": [
        {
          "output_type": "stream",
          "name": "stdout",
          "text": [
            "knn mse: 0.7472222222222222\n"
          ]
        }
      ],
      "source": [
        "knn_mse = MSE(y_test , y_pred_knn)\n",
        "print('knn mse:', knn_mse)"
      ]
    },
    {
      "cell_type": "code",
      "execution_count": 14,
      "id": "518ee096",
      "metadata": {
        "colab": {
          "base_uri": "https://localhost:8080/",
          "height": 466
        },
        "id": "518ee096",
        "outputId": "ce214b91-84f2-43cd-f6c2-8417b01e4947"
      },
      "outputs": [
        {
          "output_type": "execute_result",
          "data": {
            "text/plain": [
              "Text(0, 0.5, 'error')"
            ]
          },
          "metadata": {},
          "execution_count": 14
        },
        {
          "output_type": "display_data",
          "data": {
            "text/plain": [
              "<Figure size 640x480 with 1 Axes>"
            ],
            "image/png": "[encoded data removed]"
          },
          "metadata": {}
        }
      ],
      "source": [
        "plt.plot(k_list,knn_error_list, marker='*')\n",
        "plt.xlabel('K')\n",
        "plt.ylabel('error')"
      ]
    },
    {
      "cell_type": "markdown",
      "id": "702ebb1b",
      "metadata": {
        "id": "702ebb1b"
      },
      "source": [
        "# LDA :"
      ]
    },
    {
      "cell_type": "code",
      "execution_count": 15,
      "id": "2119bbf9",
      "metadata": {
        "colab": {
          "base_uri": "https://localhost:8080/"
        },
        "id": "2119bbf9",
        "outputId": "aa5ea5e3-28d1-4bb8-cf25-eb3237c19fc5"
      },
      "outputs": [
        {
          "output_type": "stream",
          "name": "stdout",
          "text": [
            "n=1, accuracy=40.97%\n",
            "n=2, accuracy=65.97%\n",
            "n=3, accuracy=84.72%\n",
            "n=4, accuracy=90.97%\n",
            "n=5, accuracy=93.75%\n",
            "n=6, accuracy=95.83%\n",
            "n=7, accuracy=95.83%\n",
            "n=8, accuracy=97.22%\n",
            "n=9, accuracy=95.83%\n",
            "\n",
            "====================================================================\n",
            "n=8 achieved highest accuracy of 97.22% on validation data\n",
            "====================================================================\n",
            "\n",
            "EVALUATION ON TESTING DATA\n",
            "              precision    recall  f1-score   support\n",
            "\n",
            "           0       0.96      1.00      0.98        27\n",
            "           1       0.94      0.91      0.93        35\n",
            "           2       0.97      0.92      0.94        36\n",
            "           3       0.93      0.97      0.95        29\n",
            "           4       1.00      0.97      0.98        30\n",
            "           5       0.97      0.93      0.95        40\n",
            "           6       1.00      0.98      0.99        44\n",
            "           7       0.93      1.00      0.96        39\n",
            "           8       0.90      0.95      0.92        39\n",
            "           9       0.90      0.90      0.90        41\n",
            "\n",
            "    accuracy                           0.95       360\n",
            "   macro avg       0.95      0.95      0.95       360\n",
            "weighted avg       0.95      0.95      0.95       360\n",
            "\n",
            "\n",
            "Confusion matrix\n",
            "[[27  0  0  0  0  0  0  0  0  0]\n",
            " [ 0 32  0  0  0  0  0  0  2  1]\n",
            " [ 1  0 33  2  0  0  0  0  0  0]\n",
            " [ 0  0  0 28  0  0  0  0  1  0]\n",
            " [ 0  0  0  0 29  0  0  1  0  0]\n",
            " [ 0  0  0  0  0 37  0  0  0  3]\n",
            " [ 0  1  0  0  0  0 43  0  0  0]\n",
            " [ 0  0  0  0  0  0  0 39  0  0]\n",
            " [ 0  1  1  0  0  0  0  0 37  0]\n",
            " [ 0  0  0  0  0  1  0  2  1 37]]\n"
          ]
        }
      ],
      "source": [
        "n_vals = range(1,10,1)       # step:1\n",
        "\n",
        "lda_accuracies = []          # empty list\n",
        "n_list         = []          # empty list\n",
        "lda_error_list = []          # empty list\n",
        "\n",
        "for n in range(1,10,1) : # train the LDA classifier with the current value of `n`\n",
        "        lda_model = LDA(n_components=n)\n",
        "        X_train_lda=lda_model.fit_transform(X_train, y_train)\n",
        "        X_validation_lda = lda_model.transform(X_validation)\n",
        "        new_lda_model = LDA()\n",
        "        new_lda_model.fit_transform(X_train_lda, y_train)\n",
        "        lda_score = new_lda_model.score(X_validation_lda, y_validation)\n",
        "        print(\"n=%d, accuracy=%.2f%%\" % (n,lda_score * 100))\n",
        "        lda_accuracies.append(lda_score)                        # evaluate the model and update the accuracies list\n",
        "        n_list.append(n)\n",
        "        lda_error_list.append(1-lda_score)\n",
        "\n",
        "\n",
        "\n",
        "#=====================================================================================================================\n",
        "# find the value of n that has the largest accuracy\n",
        "i = np.argmax(lda_accuracies)\n",
        "print('\\n====================================================================')\n",
        "print(\"n=%d achieved highest accuracy of %.2f%% on validation data\" % (n_vals[i], lda_accuracies[i] * 100))\n",
        "print('====================================================================')\n",
        "\n",
        "#=====================================================================================================================\n",
        "\n",
        "# re-train our classifier using the best n and predict the labels of the test data\n",
        "lda_model = LDA(n_components=n_vals[i])\n",
        "lda_model.fit(X_train, y_train)\n",
        "y_pred_lda = lda_model.predict(X_test)\n",
        "\n",
        "\n",
        "# show a final classification report demonstrating the accuracy of the classifier for each of the digits\n",
        "print(\"\\nEVALUATION ON TESTING DATA\")\n",
        "print(classification_report(y_test, y_pred_lda))\n",
        "\n",
        "print (\"\\nConfusion matrix\")\n",
        "print(confusion_matrix(y_test,y_pred_lda))"
      ]
    },
    {
      "cell_type": "code",
      "execution_count": 16,
      "id": "ad3314ac",
      "metadata": {
        "colab": {
          "base_uri": "https://localhost:8080/"
        },
        "id": "ad3314ac",
        "outputId": "fbf12224-3ef7-47cc-c1f9-1381755fecad"
      },
      "outputs": [
        {
          "output_type": "stream",
          "name": "stdout",
          "text": [
            "LDA test error: 5.0\n"
          ]
        }
      ],
      "source": [
        "lda_test_error = (y_test != y_pred_lda).mean() * 100\n",
        "print('LDA test error:' , lda_test_error)"
      ]
    },
    {
      "cell_type": "code",
      "execution_count": 17,
      "id": "19b33cdb",
      "metadata": {
        "colab": {
          "base_uri": "https://localhost:8080/"
        },
        "id": "19b33cdb",
        "outputId": "64175257-c896-49a4-bee2-43a1bb05bb67"
      },
      "outputs": [
        {
          "output_type": "stream",
          "name": "stdout",
          "text": [
            "LDA MSE: 1.0694444444444444\n"
          ]
        }
      ],
      "source": [
        "lda_mse = MSE(y_test , y_pred_lda)\n",
        "print('LDA MSE:' , lda_mse)"
      ]
    },
    {
      "cell_type": "code",
      "execution_count": 18,
      "id": "5c889cd7",
      "metadata": {
        "colab": {
          "base_uri": "https://localhost:8080/",
          "height": 466
        },
        "id": "5c889cd7",
        "outputId": "2b5a9f82-8c3e-4bea-ae47-446d58f59686"
      },
      "outputs": [
        {
          "output_type": "execute_result",
          "data": {
            "text/plain": [
              "Text(0, 0.5, 'error')"
            ]
          },
          "metadata": {},
          "execution_count": 18
        },
        {
          "output_type": "display_data",
          "data": {
            "text/plain": [
              "<Figure size 640x480 with 1 Axes>"
            ],
            "image/png": "[encoded data removed]"
          },
          "metadata": {}
        }
      ],
      "source": [
        "plt.plot(n_list,lda_error_list, marker='*')\n",
        "plt.xlabel('n')\n",
        "plt.ylabel('error')"
      ]
    },
    {
      "cell_type": "markdown",
      "id": "a5a89068",
      "metadata": {
        "id": "a5a89068"
      },
      "source": [
        "# QDA :"
      ]
    },
    {
      "cell_type": "code",
      "execution_count": 19,
      "id": "ee1e3e03",
      "metadata": {
        "colab": {
          "base_uri": "https://localhost:8080/"
        },
        "id": "ee1e3e03",
        "outputId": "2ad75e7b-f272-4fdf-cce4-e9cd7aa844c5"
      },
      "outputs": [
        {
          "output_type": "stream",
          "name": "stdout",
          "text": [
            "EVALUATION ON TESTING DATA\n",
            "              precision    recall  f1-score   support\n",
            "\n",
            "           0       1.00      0.89      0.94        27\n",
            "           1       0.80      0.91      0.85        35\n",
            "           2       0.88      0.64      0.74        36\n",
            "           3       1.00      0.59      0.74        29\n",
            "           4       0.92      0.77      0.84        30\n",
            "           5       0.95      0.95      0.95        40\n",
            "           6       1.00      1.00      1.00        44\n",
            "           7       0.79      0.97      0.87        39\n",
            "           8       0.61      0.95      0.74        39\n",
            "           9       0.97      0.83      0.89        41\n",
            "\n",
            "    accuracy                           0.86       360\n",
            "   macro avg       0.89      0.85      0.86       360\n",
            "weighted avg       0.89      0.86      0.86       360\n",
            "\n",
            "Confusion matrix\n",
            "[[24  1  0  0  0  2  0  0  0  0]\n",
            " [ 0 32  1  0  0  0  0  0  2  0]\n",
            " [ 0  6 23  0  0  0  0  0  7  0]\n",
            " [ 0  0  1 17  0  0  0  0 10  1]\n",
            " [ 0  0  0  0 23  0  0  7  0  0]\n",
            " [ 0  0  0  0  0 38  0  1  1  0]\n",
            " [ 0  0  0  0  0  0 44  0  0  0]\n",
            " [ 0  0  0  0  1  0  0 38  0  0]\n",
            " [ 0  1  1  0  0  0  0  0 37  0]\n",
            " [ 0  0  0  0  1  0  0  2  4 34]]\n"
          ]
        },
        {
          "output_type": "stream",
          "name": "stderr",
          "text": [
            "/usr/local/lib/python3.10/dist-packages/sklearn/discriminant_analysis.py:935: UserWarning: Variables are collinear\n",
            "  warnings.warn(\"Variables are collinear\")\n"
          ]
        }
      ],
      "source": [
        "qda = QDA()\n",
        "qda.fit(X_train, y_train)\n",
        "qda_predictions = qda.predict(X_test)\n",
        "\n",
        "# show a final classification report demonstrating the accuracy of the classifier for each of the digits\n",
        "print(\"EVALUATION ON TESTING DATA\")\n",
        "print(classification_report(y_test, qda_predictions))\n",
        "\n",
        "print (\"Confusion matrix\")\n",
        "print(confusion_matrix(y_test, qda_predictions))\n"
      ]
    },
    {
      "cell_type": "code",
      "execution_count": 20,
      "id": "7df5dc39",
      "metadata": {
        "colab": {
          "base_uri": "https://localhost:8080/"
        },
        "id": "7df5dc39",
        "outputId": "00c59119-2a11-4ed7-9f70-ef37ae68142e"
      },
      "outputs": [
        {
          "output_type": "stream",
          "name": "stdout",
          "text": [
            "2.5055555555555555\n"
          ]
        }
      ],
      "source": [
        "qda_mse = MSE(y_test , qda_predictions)\n",
        "print(qda_mse)"
      ]
    },
    {
      "cell_type": "code",
      "execution_count": 21,
      "id": "370a2442",
      "metadata": {
        "colab": {
          "base_uri": "https://localhost:8080/"
        },
        "id": "370a2442",
        "outputId": "925aaa8b-23f2-4ba6-cbae-9b43ebfdb306"
      },
      "outputs": [
        {
          "output_type": "stream",
          "name": "stdout",
          "text": [
            "13.88888888888889\n"
          ]
        }
      ],
      "source": [
        "qda_test_error = (y_test != qda_predictions).mean() * 100\n",
        "print(qda_test_error)"
      ]
    },
    {
      "cell_type": "markdown",
      "id": "93ec4954",
      "metadata": {
        "id": "93ec4954"
      },
      "source": [
        "# (B) & (C)\n",
        "\n",
        "## Dimensionality Reduction with PCA\n",
        "\n",
        "To reduce the feature space, we use PCA. This helps speed up model training and reduces overfitting by focusing on the most important components. Let's reduce the dimensionality and visualize how many components explain the variance in the data.\n"
      ]
    },
    {
      "cell_type": "code",
      "execution_count": 22,
      "id": "6d8a3af7",
      "metadata": {
        "colab": {
          "base_uri": "https://localhost:8080/"
        },
        "id": "6d8a3af7",
        "outputId": "1dd1d891-6450-4010-8090-81643a08b022"
      },
      "outputs": [
        {
          "output_type": "stream",
          "name": "stderr",
          "text": [
            "/usr/local/lib/python3.10/dist-packages/sklearn/discriminant_analysis.py:935: UserWarning: Variables are collinear\n",
            "  warnings.warn(\"Variables are collinear\")\n"
          ]
        }
      ],
      "source": [
        "#PCA\n",
        "\n",
        "pca = PCA(n_components = 1)\n",
        "X_train_pca=pca.fit_transform(X_train, y_train)\n",
        "X_test_pca = lda_model.transform(X_test)\n",
        "new_pca = PCA()\n",
        "new_pca.fit_transform(X_train_pca, y_train)\n",
        "\n",
        "#LDA\n",
        "lda_model = LDA(n_components=n)\n",
        "X_train_lda=lda_model.fit_transform(X_train, y_train)\n",
        "X_validation_lda = lda_model.transform(X_validation)\n",
        "new_lda_model = LDA()\n",
        "new_lda_model.fit_transform(X_train_lda, y_train)\n",
        "lda_score = new_lda_model.score(X_validation_lda, y_validation)\n",
        "\n",
        "#QDA\n",
        "qda = QDA()\n",
        "qda.fit(X_train, y_train)\n",
        "qda_predictions = qda.predict(X_test)"
      ]
    },
    {
      "cell_type": "code",
      "execution_count": 23,
      "id": "66f629d9",
      "metadata": {
        "colab": {
          "base_uri": "https://localhost:8080/"
        },
        "id": "66f629d9",
        "outputId": "41261d98-c2d7-4af1-db0b-0d1418732cac"
      },
      "outputs": [
        {
          "output_type": "stream",
          "name": "stdout",
          "text": [
            "+------+---------------+---------+---------------------+----------------------+\n",
            "| name | n(components) | k (knn) |      accuracy       |     total error      |\n",
            "+------+---------------+---------+---------------------+----------------------+\n",
            "| PCA  |       1       |    2    | 0.2861111111111111  |  0.7138888888888889  |\n",
            "| LDA  |       1       |    2    |         0.3         |         0.7          |\n",
            "| PCA  |       2       |    2    | 0.48333333333333334 |  0.5166666666666666  |\n",
            "| LDA  |       2       |    2    |        0.575        | 0.42500000000000004  |\n",
            "| PCA  |       3       |    2    | 0.6777777777777778  |  0.3222222222222222  |\n",
            "| LDA  |       3       |    2    | 0.7694444444444445  |  0.2305555555555555  |\n",
            "| PCA  |       4       |    2    |        0.775        | 0.22499999999999998  |\n",
            "| LDA  |       4       |    2    | 0.8527777777777777  | 0.14722222222222225  |\n",
            "| PCA  |       5       |    2    | 0.8305555555555556  |  0.1694444444444444  |\n",
            "| LDA  |       5       |    2    | 0.9055555555555556  | 0.09444444444444444  |\n",
            "| PCA  |       6       |    2    | 0.8361111111111111  | 0.16388888888888886  |\n",
            "| LDA  |       6       |    2    | 0.9083333333333333  | 0.09166666666666667  |\n",
            "| PCA  |       7       |    2    |        0.875        |        0.125         |\n",
            "| LDA  |       7       |    2    |        0.925        | 0.07499999999999996  |\n",
            "| PCA  |       8       |    2    | 0.9111111111111111  |  0.0888888888888889  |\n",
            "| LDA  |       8       |    2    | 0.9333333333333333  | 0.06666666666666665  |\n",
            "| PCA  |       9       |    2    | 0.9222222222222223  | 0.07777777777777772  |\n",
            "| LDA  |       9       |    2    |        0.95         | 0.050000000000000044 |\n",
            "| PCA  |       1       |    3    | 0.25833333333333336 |  0.7416666666666667  |\n",
            "| LDA  |       1       |    3    | 0.3277777777777778  |  0.6722222222222223  |\n",
            "| PCA  |       2       |    3    | 0.49722222222222223 |  0.5027777777777778  |\n",
            "| LDA  |       2       |    3    | 0.6305555555555555  | 0.36944444444444446  |\n",
            "| PCA  |       3       |    3    | 0.7083333333333334  | 0.29166666666666663  |\n",
            "| LDA  |       3       |    3    | 0.7916666666666666  | 0.20833333333333337  |\n",
            "| PCA  |       4       |    3    | 0.7972222222222223  | 0.20277777777777772  |\n",
            "| LDA  |       4       |    3    | 0.8888888888888888  | 0.11111111111111116  |\n",
            "| PCA  |       5       |    3    | 0.8555555555555555  |  0.1444444444444445  |\n",
            "| LDA  |       5       |    3    | 0.9194444444444444  |  0.0805555555555556  |\n",
            "| PCA  |       6       |    3    | 0.8638888888888889  | 0.13611111111111107  |\n",
            "| LDA  |       6       |    3    | 0.9138888888888889  | 0.08611111111111114  |\n",
            "| PCA  |       7       |    3    | 0.9055555555555556  | 0.09444444444444444  |\n",
            "| LDA  |       7       |    3    | 0.9361111111111111  | 0.06388888888888888  |\n",
            "| PCA  |       8       |    3    | 0.9416666666666667  | 0.05833333333333335  |\n",
            "| LDA  |       8       |    3    | 0.9583333333333334  | 0.04166666666666663  |\n",
            "| PCA  |       9       |    3    | 0.9388888888888889  | 0.061111111111111116 |\n",
            "| LDA  |       9       |    3    | 0.9611111111111111  | 0.03888888888888886  |\n",
            "| PCA  |       1       |    4    |        0.275        |        0.725         |\n",
            "| LDA  |       1       |    4    | 0.3472222222222222  |  0.6527777777777778  |\n",
            "| PCA  |       2       |    4    |         0.5         |         0.5          |\n",
            "| LDA  |       2       |    4    | 0.6444444444444445  |  0.3555555555555555  |\n",
            "| PCA  |       3       |    4    | 0.7472222222222222  | 0.25277777777777777  |\n",
            "| LDA  |       3       |    4    |         0.8         | 0.19999999999999996  |\n",
            "| PCA  |       4       |    4    | 0.8277777777777777  | 0.17222222222222228  |\n",
            "| LDA  |       4       |    4    | 0.8861111111111111  | 0.11388888888888893  |\n",
            "| PCA  |       5       |    4    | 0.8527777777777777  | 0.14722222222222225  |\n",
            "| LDA  |       5       |    4    | 0.9166666666666666  | 0.08333333333333337  |\n",
            "| PCA  |       6       |    4    | 0.8583333333333333  | 0.14166666666666672  |\n",
            "| LDA  |       6       |    4    | 0.9194444444444444  |  0.0805555555555556  |\n",
            "| PCA  |       7       |    4    | 0.9138888888888889  | 0.08611111111111114  |\n",
            "| LDA  |       7       |    4    | 0.9361111111111111  | 0.06388888888888888  |\n",
            "| PCA  |       8       |    4    | 0.9388888888888889  | 0.061111111111111116 |\n",
            "| LDA  |       8       |    4    |        0.95         | 0.050000000000000044 |\n",
            "| PCA  |       9       |    4    | 0.9277777777777778  | 0.07222222222222219  |\n",
            "| LDA  |       9       |    4    | 0.9694444444444444  | 0.030555555555555558 |\n",
            "| PCA  |       1       |    5    | 0.2972222222222222  |  0.7027777777777777  |\n",
            "| LDA  |       1       |    5    | 0.3472222222222222  |  0.6527777777777778  |\n",
            "| PCA  |       2       |    5    | 0.5194444444444445  |  0.4805555555555555  |\n",
            "| LDA  |       2       |    5    | 0.6444444444444445  |  0.3555555555555555  |\n",
            "| PCA  |       3       |    5    | 0.7472222222222222  | 0.25277777777777777  |\n",
            "| LDA  |       3       |    5    | 0.8111111111111111  | 0.18888888888888888  |\n",
            "| PCA  |       4       |    5    | 0.8277777777777777  | 0.17222222222222228  |\n",
            "| LDA  |       4       |    5    | 0.8833333333333333  |  0.1166666666666667  |\n",
            "| PCA  |       5       |    5    |        0.85         | 0.15000000000000002  |\n",
            "| LDA  |       5       |    5    | 0.9222222222222223  | 0.07777777777777772  |\n",
            "| PCA  |       6       |    5    | 0.8583333333333333  | 0.14166666666666672  |\n",
            "| LDA  |       6       |    5    |        0.925        | 0.07499999999999996  |\n",
            "| PCA  |       7       |    5    | 0.9083333333333333  | 0.09166666666666667  |\n",
            "| LDA  |       7       |    5    | 0.9388888888888889  | 0.061111111111111116 |\n",
            "| PCA  |       8       |    5    | 0.9361111111111111  | 0.06388888888888888  |\n",
            "| LDA  |       8       |    5    |        0.95         | 0.050000000000000044 |\n",
            "| PCA  |       9       |    5    | 0.9388888888888889  | 0.061111111111111116 |\n",
            "| LDA  |       9       |    5    | 0.9694444444444444  | 0.030555555555555558 |\n",
            "| PCA  |       1       |    6    | 0.3194444444444444  |  0.6805555555555556  |\n",
            "| LDA  |       1       |    6    | 0.3638888888888889  |  0.6361111111111111  |\n",
            "| PCA  |       2       |    6    | 0.49722222222222223 |  0.5027777777777778  |\n",
            "| LDA  |       2       |    6    |        0.65         |         0.35         |\n",
            "| PCA  |       3       |    6    | 0.7555555555555555  | 0.24444444444444446  |\n",
            "| LDA  |       3       |    6    | 0.8222222222222222  |  0.1777777777777778  |\n",
            "| PCA  |       4       |    6    | 0.8138888888888889  | 0.18611111111111112  |\n",
            "| LDA  |       4       |    6    | 0.9027777777777778  | 0.09722222222222221  |\n",
            "| PCA  |       5       |    6    | 0.8555555555555555  |  0.1444444444444445  |\n",
            "| LDA  |       5       |    6    | 0.9194444444444444  |  0.0805555555555556  |\n",
            "| PCA  |       6       |    6    | 0.8638888888888889  | 0.13611111111111107  |\n",
            "| LDA  |       6       |    6    |        0.925        | 0.07499999999999996  |\n",
            "| PCA  |       7       |    6    | 0.9083333333333333  | 0.09166666666666667  |\n",
            "| LDA  |       7       |    6    | 0.9361111111111111  | 0.06388888888888888  |\n",
            "| PCA  |       8       |    6    | 0.9305555555555556  | 0.06944444444444442  |\n",
            "| LDA  |       8       |    6    | 0.9527777777777777  | 0.047222222222222276 |\n",
            "| PCA  |       9       |    6    | 0.9305555555555556  | 0.06944444444444442  |\n",
            "| LDA  |       9       |    6    | 0.9722222222222222  | 0.02777777777777779  |\n",
            "| PCA  |       1       |    7    | 0.3333333333333333  |  0.6666666666666667  |\n",
            "| LDA  |       1       |    7    | 0.3611111111111111  |  0.6388888888888888  |\n",
            "| PCA  |       2       |    7    | 0.5111111111111111  | 0.48888888888888893  |\n",
            "| LDA  |       2       |    7    | 0.6694444444444444  |  0.3305555555555556  |\n",
            "| PCA  |       3       |    7    | 0.7444444444444445  | 0.25555555555555554  |\n",
            "| LDA  |       3       |    7    | 0.8194444444444444  | 0.18055555555555558  |\n",
            "| PCA  |       4       |    7    | 0.8222222222222222  |  0.1777777777777778  |\n",
            "| LDA  |       4       |    7    | 0.8972222222222223  | 0.10277777777777775  |\n",
            "| PCA  |       5       |    7    | 0.8444444444444444  | 0.15555555555555556  |\n",
            "| LDA  |       5       |    7    | 0.9166666666666666  | 0.08333333333333337  |\n",
            "| PCA  |       6       |    7    | 0.8666666666666667  |  0.1333333333333333  |\n",
            "| LDA  |       6       |    7    | 0.9277777777777778  | 0.07222222222222219  |\n",
            "| PCA  |       7       |    7    | 0.9111111111111111  |  0.0888888888888889  |\n",
            "| LDA  |       7       |    7    | 0.9333333333333333  | 0.06666666666666665  |\n",
            "| PCA  |       8       |    7    | 0.9305555555555556  | 0.06944444444444442  |\n",
            "| LDA  |       8       |    7    | 0.9527777777777777  | 0.047222222222222276 |\n",
            "| PCA  |       9       |    7    | 0.9305555555555556  | 0.06944444444444442  |\n",
            "| LDA  |       9       |    7    |        0.975        | 0.025000000000000022 |\n",
            "| PCA  |       1       |    8    | 0.3416666666666667  |  0.6583333333333333  |\n",
            "| LDA  |       1       |    8    | 0.36944444444444446 |  0.6305555555555555  |\n",
            "| PCA  |       2       |    8    | 0.5222222222222223  | 0.47777777777777775  |\n",
            "| LDA  |       2       |    8    | 0.6833333333333333  | 0.31666666666666665  |\n",
            "| PCA  |       3       |    8    | 0.7388888888888889  | 0.26111111111111107  |\n",
            "| LDA  |       3       |    8    |        0.825        | 0.17500000000000004  |\n",
            "| PCA  |       4       |    8    |        0.825        | 0.17500000000000004  |\n",
            "| LDA  |       4       |    8    |         0.9         | 0.09999999999999998  |\n",
            "| PCA  |       5       |    8    |        0.85         | 0.15000000000000002  |\n",
            "| LDA  |       5       |    8    | 0.9111111111111111  |  0.0888888888888889  |\n",
            "| PCA  |       6       |    8    | 0.8666666666666667  |  0.1333333333333333  |\n",
            "| LDA  |       6       |    8    | 0.9222222222222223  | 0.07777777777777772  |\n",
            "| PCA  |       7       |    8    | 0.9083333333333333  | 0.09166666666666667  |\n",
            "| LDA  |       7       |    8    | 0.9333333333333333  | 0.06666666666666665  |\n",
            "| PCA  |       8       |    8    | 0.9277777777777778  | 0.07222222222222219  |\n",
            "| LDA  |       8       |    8    | 0.9444444444444444  | 0.05555555555555558  |\n",
            "| PCA  |       9       |    8    | 0.9305555555555556  | 0.06944444444444442  |\n",
            "| LDA  |       9       |    8    |        0.975        | 0.025000000000000022 |\n",
            "| PCA  |       1       |    9    | 0.3472222222222222  |  0.6527777777777778  |\n",
            "| LDA  |       1       |    9    |        0.35         |         0.65         |\n",
            "| PCA  |       2       |    9    | 0.5305555555555556  | 0.46944444444444444  |\n",
            "| LDA  |       2       |    9    | 0.6777777777777778  |  0.3222222222222222  |\n",
            "| PCA  |       3       |    9    | 0.7472222222222222  | 0.25277777777777777  |\n",
            "| LDA  |       3       |    9    | 0.8277777777777777  | 0.17222222222222228  |\n",
            "| PCA  |       4       |    9    | 0.8194444444444444  | 0.18055555555555558  |\n",
            "| LDA  |       4       |    9    | 0.8972222222222223  | 0.10277777777777775  |\n",
            "| PCA  |       5       |    9    | 0.8388888888888889  |  0.1611111111111111  |\n",
            "| LDA  |       5       |    9    | 0.9222222222222223  | 0.07777777777777772  |\n",
            "| PCA  |       6       |    9    | 0.8666666666666667  |  0.1333333333333333  |\n",
            "| LDA  |       6       |    9    | 0.9222222222222223  | 0.07777777777777772  |\n",
            "| PCA  |       7       |    9    |         0.9         | 0.09999999999999998  |\n",
            "| LDA  |       7       |    9    | 0.9388888888888889  | 0.061111111111111116 |\n",
            "| PCA  |       8       |    9    | 0.9305555555555556  | 0.06944444444444442  |\n",
            "| LDA  |       8       |    9    | 0.9472222222222222  | 0.05277777777777781  |\n",
            "| PCA  |       9       |    9    | 0.9333333333333333  | 0.06666666666666665  |\n",
            "| LDA  |       9       |    9    | 0.9722222222222222  | 0.02777777777777779  |\n",
            "+------+---------------+---------+---------------------+----------------------+\n"
          ]
        }
      ],
      "source": [
        "acc_knn_list = []\n",
        "error_list   = []\n",
        "for k in range (2,10, 1) :\n",
        "    for n in range (1,10,1):\n",
        "        random_state = 0\n",
        "        # Reduce dimension to n with PCA\n",
        "        pca = make_pipeline(StandardScaler(), PCA(n_components=n, random_state=random_state))\n",
        "        # Reduce dimension to n with LDA\n",
        "        lda = make_pipeline(StandardScaler(), LDA(n_components=n))\n",
        "        # Use a nearest neighbor classifier to evaluate the methods\n",
        "        knn = KNeighborsClassifier(n_neighbors=k)\n",
        "        # Make a list of the methods to be compared\n",
        "        dim_reduction_methods = [(\"PCA\", pca), (\"LDA\", lda)]\n",
        "\n",
        "        for i, (name, model) in enumerate(dim_reduction_methods):\n",
        "            # Fit the method's model\n",
        "            model.fit(X_train, y_train)\n",
        "            # Fit a nearest neighbor classifier on the embedded training set\n",
        "            knn.fit(model.transform(X_train), y_train)\n",
        "            # Compute the nearest neighbor accuracy on the embedded test set\n",
        "            acc_knn = knn.score(model.transform(X_test), y_test)\n",
        "            acc_knn_list.append([name,n,k,acc_knn, (1-acc_knn)])\n",
        "            error_list.append(1-acc_knn)\n",
        "\n",
        "\n",
        "print(tabulate(acc_knn_list , headers=['name', 'n(components)', 'k (knn)', 'accuracy', 'total error' ], tablefmt=\"pretty\" ))\n"
      ]
    },
    {
      "cell_type": "code",
      "execution_count": 24,
      "id": "f863e950",
      "metadata": {
        "colab": {
          "base_uri": "https://localhost:8080/"
        },
        "id": "f863e950",
        "outputId": "55975724-6b2f-4bc7-b404-1c1a1d29c95d"
      },
      "outputs": [
        {
          "output_type": "stream",
          "name": "stdout",
          "text": [
            "144\n"
          ]
        }
      ],
      "source": [
        "print(len(acc_knn_list))"
      ]
    },
    {
      "cell_type": "code",
      "execution_count": 25,
      "id": "c99ead8f",
      "metadata": {
        "colab": {
          "base_uri": "https://localhost:8080/",
          "height": 1000
        },
        "id": "c99ead8f",
        "outputId": "636b5445-9a9e-4e86-901c-8fab293d5c11"
      },
      "outputs": [
        {
          "output_type": "display_data",
          "data": {
            "text/plain": [
              "<Figure size 400x300 with 1 Axes>"
            ],
            "image/png": "[encoded data removed]"
          },
          "metadata": {}
        },
        {
          "output_type": "display_data",
          "data": {
            "text/plain": [
              "<Figure size 400x300 with 1 Axes>"
            ],
            "image/png": "[encoded data removed]"
          },
          "metadata": {}
        },
        {
          "output_type": "display_data",
          "data": {
            "text/plain": [
              "<Figure size 400x300 with 1 Axes>"
            ],
            "image/png": "[encoded data removed]"
          },
          "metadata": {}
        },
        {
          "output_type": "display_data",
          "data": {
            "text/plain": [
              "<Figure size 400x300 with 1 Axes>"
            ],
            "image/png": "[encoded data removed]"
          },
          "metadata": {}
        },
        {
          "output_type": "display_data",
          "data": {
            "text/plain": [
              "<Figure size 400x300 with 1 Axes>"
            ],
            "image/png": "[encoded data removed]"
          },
          "metadata": {}
        },
        {
          "output_type": "display_data",
          "data": {
            "text/plain": [
              "<Figure size 400x300 with 1 Axes>"
            ],
            "image/png": "[encoded data removed]"
          },
          "metadata": {}
        },
        {
          "output_type": "display_data",
          "data": {
            "text/plain": [
              "<Figure size 400x300 with 1 Axes>"
            ],
            "image/png": "[encoded data removed]"
          },
          "metadata": {}
        },
        {
          "output_type": "display_data",
          "data": {
            "text/plain": [
              "<Figure size 400x300 with 1 Axes>"
            ],
            "image/png": "[encoded data removed]"
          },
          "metadata": {}
        }
      ],
      "source": [
        "plt.rcParams['figure.figsize'] = (4,3)   # figure size\n",
        "#----------------------------------------------------------------------------------\n",
        "for i in range (144):\n",
        "    if (acc_knn_list[i][2] == 2):\n",
        "        if (acc_knn_list[i][0] == 'PCA'):\n",
        "            plt.scatter(acc_knn_list[i][1],acc_knn_list[i][4], color = 'blue')\n",
        "        if (acc_knn_list[i][0] == 'LDA'):\n",
        "            plt.scatter(acc_knn_list[i][1],acc_knn_list[i][4], color = 'red')\n",
        "\n",
        "        plt.title('K = 2')        ; plt.legend(['PCA' , 'LDA'])\n",
        "        plt.xlabel('n_components'); plt.ylabel('error = 1 - accuracy')\n",
        "plt.show()\n",
        "#----------------------------------------------------------------------------------\n",
        "for i in range (144):\n",
        "    if (acc_knn_list[i][2] == 3):\n",
        "        if (acc_knn_list[i][0] == 'PCA'):\n",
        "            plt.scatter(acc_knn_list[i][1],acc_knn_list[i][4], color = 'blue')\n",
        "        if (acc_knn_list[i][0] == 'LDA'):\n",
        "            plt.scatter(acc_knn_list[i][1],acc_knn_list[i][4], color = 'red')\n",
        "\n",
        "        plt.title('K = 3')        ; plt.legend(['PCA' , 'LDA'])\n",
        "        plt.xlabel('n_components'); plt.ylabel('error = 1 - accuracy')\n",
        "plt.show()\n",
        "#----------------------------------------------------------------------------------\n",
        "for i in range (144):\n",
        "    if (acc_knn_list[i][2] == 4):\n",
        "        if (acc_knn_list[i][0] == 'PCA'):\n",
        "            plt.scatter(acc_knn_list[i][1],acc_knn_list[i][4], color = 'blue')\n",
        "        if (acc_knn_list[i][0] == 'LDA'):\n",
        "            plt.scatter(acc_knn_list[i][1],acc_knn_list[i][4], color = 'red')\n",
        "\n",
        "        plt.title('K = 4')        ; plt.legend(['PCA' , 'LDA'])\n",
        "        plt.xlabel('n_components'); plt.ylabel('error = 1 - accuracy')\n",
        "plt.show()\n",
        "#----------------------------------------------------------------------------------\n",
        "for i in range (144):\n",
        "    if (acc_knn_list[i][2] == 5):\n",
        "        if (acc_knn_list[i][0] == 'PCA'):\n",
        "            plt.scatter(acc_knn_list[i][1],acc_knn_list[i][4], color = 'blue')\n",
        "        if (acc_knn_list[i][0] == 'LDA'):\n",
        "            plt.scatter(acc_knn_list[i][1],acc_knn_list[i][4], color = 'red')\n",
        "\n",
        "        plt.title('K = 5')        ; plt.legend(['PCA' , 'LDA'])\n",
        "        plt.xlabel('n_components'); plt.ylabel('error = 1 - accuracy')\n",
        "plt.show()\n",
        "#----------------------------------------------------------------------------------\n",
        "for i in range (144):\n",
        "    if (acc_knn_list[i][2] == 6):\n",
        "        if (acc_knn_list[i][0] == 'PCA'):\n",
        "            plt.scatter(acc_knn_list[i][1],acc_knn_list[i][4], color = 'blue')\n",
        "        if (acc_knn_list[i][0] == 'LDA'):\n",
        "            plt.scatter(acc_knn_list[i][1],acc_knn_list[i][4], color = 'red')\n",
        "\n",
        "        plt.title('K = 6')        ; plt.legend(['PCA' , 'LDA'])\n",
        "        plt.xlabel('n_components'); plt.ylabel('error = 1 - accuracy')\n",
        "plt.show()\n",
        "#----------------------------------------------------------------------------------\n",
        "for i in range (144):\n",
        "    if (acc_knn_list[i][2] == 7):\n",
        "        if (acc_knn_list[i][0] == 'PCA'):\n",
        "            plt.scatter(acc_knn_list[i][1],acc_knn_list[i][4], color = 'blue')\n",
        "        if (acc_knn_list[i][0] == 'LDA'):\n",
        "            plt.scatter(acc_knn_list[i][1],acc_knn_list[i][4], color = 'red')\n",
        "\n",
        "        plt.title('K = 7')        ; plt.legend(['PCA' , 'LDA'])\n",
        "        plt.xlabel('n_components'); plt.ylabel('error = 1 - accuracy')\n",
        "plt.show()\n",
        "#----------------------------------------------------------------------------------\n",
        "for i in range (144):\n",
        "    if (acc_knn_list[i][2] == 8):\n",
        "        if (acc_knn_list[i][0] == 'PCA'):\n",
        "            plt.scatter(acc_knn_list[i][1],acc_knn_list[i][4], color = 'blue')\n",
        "        if (acc_knn_list[i][0] == 'LDA'):\n",
        "            plt.scatter(acc_knn_list[i][1],acc_knn_list[i][4], color = 'red')\n",
        "\n",
        "        plt.title('K = 8')        ; plt.legend(['PCA' , 'LDA'])\n",
        "        plt.xlabel('n_components'); plt.ylabel('error = 1 - accuracy')\n",
        "plt.show()\n",
        "#----------------------------------------------------------------------------------\n",
        "for i in range (144):\n",
        "    if (acc_knn_list[i][2] == 9):\n",
        "        if (acc_knn_list[i][0] == 'PCA'):\n",
        "            plt.scatter(acc_knn_list[i][1],acc_knn_list[i][4], color = 'blue')\n",
        "        if (acc_knn_list[i][0] == 'LDA'):\n",
        "            plt.scatter(acc_knn_list[i][1],acc_knn_list[i][4], color = 'red')\n",
        "\n",
        "        plt.title('K = 9')        ; plt.legend(['PCA' , 'LDA'])\n",
        "        plt.xlabel('n_components'); plt.ylabel('error = 1 - accuracy')\n",
        "plt.show()"
      ]
    },
    {
      "cell_type": "markdown",
      "source": [
        "As observed from the various neighborhood sizes plotted in the graphs, a common trend emerges: as the number of components increases, accuracy improves, and error decreases. This was expected since reducing dimensions inevitably leads to some loss of valuable information. The more aggressive the dimensionality reduction, the more information is lost, resulting in higher error rates.\n",
        "\n",
        "Another key observation is that, in this case, dimensionality reduction via LDA is preferred due to its lower error rates compared to other methods.\n",
        "\n",
        "The plots also reveal that the optimal number of components is around eight or nine across all neighborhood sizes, with similar error rates in these cases.\n",
        "\n",
        "By comparing parts (a) and (b)—specifically, the table presented above and the values obtained in part (a)—it becomes clear that the results for higher component numbers are almost within the same range as those from part (a). However, as mentioned earlier, dimensionality reduction lowers accuracy.\n",
        "\n",
        "A final important conclusion is that although increasing the number of components improves the results and reduces overall error, the rate of improvement is not consistent across all components. For example, the improvement between eight and nine components is significantly smaller than that between one and two components."
      ],
      "metadata": {
        "id": "ZPNPBT5ACXmJ"
      },
      "id": "ZPNPBT5ACXmJ"
    },
    {
      "cell_type": "code",
      "execution_count": null,
      "id": "617d3ac2",
      "metadata": {
        "id": "617d3ac2"
      },
      "outputs": [],
      "source": []
    }
  ],
  "metadata": {
    "kernelspec": {
      "display_name": "Python 3 (ipykernel)",
      "language": "python",
      "name": "python3"
    },
    "language_info": {
      "codemirror_mode": {
        "name": "ipython",
        "version": 3
      },
      "file_extension": ".py",
      "mimetype": "text/x-python",
      "name": "python",
      "nbconvert_exporter": "python",
      "pygments_lexer": "ipython3",
      "version": "3.10.5"
    },
    "colab": {
      "provenance": []
    }
  },
  "nbformat": 4,
  "nbformat_minor": 5
}